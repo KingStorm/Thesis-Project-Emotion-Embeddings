{
  "cells": [
    {
      "cell_type": "markdown",
      "metadata": {
        "id": "KUhdNetRTps6"
      },
      "source": [
        "## Imports and model architecture"
      ]
    },
    {
      "cell_type": "code",
      "execution_count": null,
      "metadata": {
        "id": "XS3d6lyPb2R2"
      },
      "outputs": [],
      "source": [
        "import itertools\n",
        "import numpy as np\n",
        "import pickle\n",
        "import os\n",
        "from sklearn import svm, linear_model\n",
        "from sklearn.model_selection import KFold\n",
        "import matplotlib.pyplot as plt\n",
        "\n",
        "from sklearn.metrics import confusion_matrix\n",
        "\"\"\"\n",
        "Implementation of pairwise ranking using scikit-learn LinearSVC\n",
        "Reference: \"Large Margin Rank Boundaries for Ordinal Regression\", R. Herbrich,\n",
        "    T. Graepel, K. Obermayer.\n",
        "Authors: Fabian Pedregosa <fabian@fseoane.net>\n",
        "         Alexandre Gramfort <alexandre.gramfort@inria.fr>\n",
        "\"\"\"\n",
        "\n",
        "\n",
        "def transform_pairwise(X, y):\n",
        "    \"\"\"Transforms data into pairs with balanced labels for ranking\n",
        "    Transforms a n-class ranking problem into a two-class classification\n",
        "    problem. Subclasses implementing particular strategies for choosing\n",
        "    pairs should override this method.\n",
        "    In this method, all pairs are choosen, except for those that have the\n",
        "    same target value. The output is an array of balanced classes, i.e.\n",
        "    there are the same number of -1 as +1\n",
        "    Parameters\n",
        "    ----------\n",
        "    X : array, shape (n_samples, n_features)\n",
        "        The data\n",
        "    y : array, shape (n_samples,) or (n_samples, 2)\n",
        "        Target labels. If it's a 2D array, the second column represents\n",
        "        the grouping of samples, i.e., samples with different groups will\n",
        "        not be considered.\n",
        "    Returns\n",
        "    -------\n",
        "    X_trans : array, shape (k, n_feaures)\n",
        "        Data as pairs\n",
        "    y_trans : array, shape (k,)\n",
        "        Output class labels, where classes have values {-1, +1}\n",
        "    \"\"\"\n",
        "    X_new = []\n",
        "    y_new = []\n",
        "    y = np.asarray(y)\n",
        "    if y.ndim == 1:\n",
        "        y = np.c_[y, np.ones(y.shape[0])]\n",
        "    comb = itertools.combinations(range(X.shape[0]), 2)\n",
        "    for k, (i, j) in enumerate(comb):\n",
        "        if y[i, 0] == y[j, 0] or y[i, 1] != y[j, 1]:\n",
        "            # skip if same target or different group\n",
        "            continue\n",
        "        X_new.append(X[i] - X[j])\n",
        "        y_new.append(np.sign(y[i, 0] - y[j, 0]))\n",
        "        # output balanced classes\n",
        "        if y_new[-1] != (-1) ** k:\n",
        "            y_new[-1] = - y_new[-1]\n",
        "            X_new[-1] = - X_new[-1]\n",
        "    return np.asarray(X_new), np.asarray(y_new).ravel()\n",
        "\n",
        "\n",
        "class RankSVM(svm.LinearSVC):\n",
        "    \"\"\"Performs pairwise ranking with an underlying LinearSVC model\n",
        "    Input should be a n-class ranking problem, this object will convert it\n",
        "    into a two-class classification problem, a setting known as\n",
        "    `pairwise ranking`.\n",
        "    See object :ref:`svm.LinearSVC` for a full description of parameters.\n",
        "    \"\"\"\n",
        "\n",
        "    def fit(self, X, y):\n",
        "        \"\"\"\n",
        "        Fit a pairwise ranking model.\n",
        "        Parameters\n",
        "        ----------\n",
        "        X : array, shape (n_samples, n_features)\n",
        "        y : array, shape (n_samples,) or (n_samples, 2)\n",
        "        Returns\n",
        "        -------\n",
        "        self\n",
        "        \"\"\"\n",
        "        X_trans, y_trans = transform_pairwise(X, y)\n",
        "        super(RankSVM, self).fit(X_trans, y_trans)\n",
        "        return self\n",
        "\n",
        "    def predict(self, X):\n",
        "        \"\"\"\n",
        "        Predict an ordering on X. For a list of n samples, this method\n",
        "        returns a list from 0 to n-1 with the relative order of the rows of X.\n",
        "        Parameters\n",
        "        ----------\n",
        "        X : array, shape (n_samples, n_features)\n",
        "        Returns\n",
        "        -------\n",
        "        ord : array, shape (n_samples,)\n",
        "            Returns a list of integers representing the relative order of\n",
        "            the rows in X.\n",
        "        \"\"\"\n",
        "        if hasattr(self, 'coef_'):\n",
        "            np.argsort(np.dot(X, self.coef_.T))\n",
        "        else:\n",
        "            raise ValueError(\"Must call fit() prior to predict()\")\n",
        "\n",
        "    def score(self, X, y):\n",
        "        \"\"\"\n",
        "        Because we transformed into a pairwise problem, chance level is at 0.5\n",
        "        \"\"\"\n",
        "        X_trans, y_trans = transform_pairwise(X, y)\n",
        "       \n",
        "        return np.mean(super(RankSVM, self).predict(X_trans) == y_trans)\n",
        "\n",
        "    def conf_matrix(self, X, y):\n",
        "        \"\"\"\n",
        "        Because we transformed into a pairwise problem, chance level is at 0.5\n",
        "        \"\"\"\n",
        "        #From the perspective of emotional speech as positive\n",
        "        TP = 0\n",
        "        TN = 0\n",
        "        FN = 0\n",
        "        FP = 0\n",
        "        \n",
        "        X_trans, y_trans = transform_pairwise(X, y)\n",
        "        results = super(RankSVM, self).predict(X_trans)\n",
        "        \n",
        "        \n",
        "        \n",
        "\n",
        "\n",
        "        cf_matrix = confusion_matrix(y_trans, results)\n",
        "\n",
        "        accuracy = np.mean(results == y_trans)\n",
        "\n",
        "        return cf_matrix, accuracy\n",
        "\n",
        "import seaborn as sns\n",
        "def make_conf_matrix(emotion, number, out_path):\n",
        "  ax = sns.heatmap(cf_matrix, annot=True, cmap='Blues', cbar=False)\n",
        "  title = f\"Confusion Matrix Zhu {number} for {emotion}\"\n",
        "  ax.set_title(title);\n",
        "\n",
        "  ax.set_xlabel('Predictions')\n",
        "  ax.set_ylabel('True Values');\n",
        "\n",
        "  ## Ticket labels - List must be in alphabetical order\n",
        "  ax.xaxis.set_ticklabels([emotion,'Neutral'])\n",
        "  ax.yaxis.set_ticklabels([emotion,'Neutral'])\n",
        "\n",
        "  plt.savefig(out_path)\n",
        "  ## Display the visualization of the Confusion Matrix.\n",
        "  plt.show()\n",
        "         "
      ]
    },
    {
      "cell_type": "markdown",
      "metadata": {
        "id": "SJ9iEX4HTtTS"
      },
      "source": [
        "## Training and Saving Models"
      ]
    },
    {
      "cell_type": "code",
      "execution_count": null,
      "metadata": {
        "colab": {
          "base_uri": "https://localhost:8080/"
        },
        "id": "6XF9VV__-3UY",
        "outputId": "6aa9b994-2e94-406b-f405-8340b9693ecb"
      },
      "outputs": [
        {
          "name": "stderr",
          "output_type": "stream",
          "text": [
            "/usr/local/lib/python3.7/dist-packages/sklearn/svm/_base.py:1208: ConvergenceWarning: Liblinear failed to converge, increase the number of iterations.\n",
            "  ConvergenceWarning,\n"
          ]
        }
      ],
      "source": [
        "import pickle\n",
        "emotion = \"surprised\"\n",
        "happy_features = np.load(f'/content/drive/MyDrive/Thesis/five_{emotion}.npy', allow_pickle=True)[:2500,:384].astype('float16')\n",
        "happy_labels = np.load(f'/content/drive/MyDrive/Thesis/five_{emotion}.npy', allow_pickle=True)[:2500, 384].astype('int8')\n",
        "rank_svm = RankSVM().fit(happy_features, happy_labels)\n",
        "filename = f'/content/drive/MyDrive/SVM Results (trained on one and five)/{emotion}_2500.sav'\n",
        "pickle.dump(rank_svm, open(filename, 'wb'))"
      ]
    },
    {
      "cell_type": "code",
      "source": [
        "#Example of fitting one of the Lexical Diversity models\n",
        "rank_svm = RankSVM().fit(features, labels)\n",
        "filename = f'/content/drive/MyDrive/Thesis/LexDiv/58773good/surprised.sav'\n",
        "pickle.dump(rank_svm, open(filename, 'wb'))"
      ],
      "metadata": {
        "id": "GJpfITxJoct8"
      },
      "execution_count": null,
      "outputs": []
    },
    {
      "cell_type": "markdown",
      "metadata": {
        "id": "lmWddWDoTzD3"
      },
      "source": [
        "## Model Evaluation"
      ]
    },
    {
      "cell_type": "code",
      "execution_count": null,
      "metadata": {
        "id": "MA2yOtDLSX7F"
      },
      "outputs": [],
      "source": [
        "happy_test_features = np.load(f'/content/drive/MyDrive/Thesis/four_happy.npy', allow_pickle=True)[:,:384].astype('float64')\n",
        "happy_test_labels = np.load(f'/content/drive/MyDrive/Thesis/four_happy.npy', allow_pickle=True)[:, 384].astype('int')\n",
        "angry_test_features = np.load(f'/content/drive/MyDrive/Thesis/four_angry.npy', allow_pickle=True)[:,:384].astype('float64')\n",
        "angry_test_labels = np.load(f'/content/drive/MyDrive/Thesis/four_angry.npy', allow_pickle=True)[:, 384].astype('int')\n",
        "sad_test_features = np.load(f'/content/drive/MyDrive/Thesis/four_sad.npy', allow_pickle=True)[:,:384].astype('float64')\n",
        "sad_test_labels = np.load(f'/content/drive/MyDrive/Thesis/four_sad.npy', allow_pickle=True)[:, 384].astype('int')\n",
        "surprised_test_features = np.load(f'/content/drive/MyDrive/Thesis/four_surprised.npy', allow_pickle=True)[:,:384].astype('float64')\n",
        "surprised_test_labels = np.load(f'/content/drive/MyDrive/Thesis/four_surprised.npy', allow_pickle=True)[:, 384].astype('int')\n"
      ]
    },
    {
      "cell_type": "code",
      "execution_count": null,
      "metadata": {
        "colab": {
          "base_uri": "https://localhost:8080/"
        },
        "id": "8xnN8HwxQjKf",
        "outputId": "e39a83c6-2cc4-40b1-82ae-6d457b1bd3c7"
      },
      "outputs": [
        {
          "name": "stdout",
          "output_type": "stream",
          "text": [
            "Performance of ranking  0.806580147541246\n",
            "Performance of ranking  0.7696828343281432\n",
            "Performance of ranking  0.7142828567313693\n",
            "Performance of ranking  0.9036101198572595\n",
            "Performance of ranking  0.9417996191451569\n",
            "Performance of ranking  0.9689875342049256\n",
            "Performance of ranking  0.967391304347826\n"
          ]
        }
      ],
      "source": [
        "score_list = []\n",
        "number_list = [10, 50, 100, 500, 1000, 2000, 2500]\n",
        "for number in number_list:\n",
        "  w_happy = pickle.load(open(f\"/content/drive/MyDrive/SVM Results (trained on one and five)/happy_{number}.sav\", 'rb'))\n",
        "  score = w_happy.score(test_features, test_labels)\n",
        "  print('Performance of ranking ', score)\n",
        "  score_list.append(score)"
      ]
    },
    {
      "cell_type": "code",
      "execution_count": null,
      "metadata": {
        "id": "5DBdcyS9RQ59"
      },
      "outputs": [],
      "source": [
        "import matplotlib.pyplot as plt\n",
        "plt.plot(4*number_list, score_list)\n",
        "plt.xlabel(\"Number of training samples\")\n",
        "plt.ylabel(\"Accuracy\")\n",
        "plt.title(\"Accuracy of rank svm for happy emotion\")\n",
        "plt.show()"
      ]
    },
    {
      "cell_type": "code",
      "execution_count": null,
      "metadata": {
        "colab": {
          "base_uri": "https://localhost:8080/",
          "height": 295
        },
        "id": "JCj0EX3lSoNj",
        "outputId": "9f916f1a-bfc2-4162-aabe-d15ee354b0ec"
      },
      "outputs": [
        {
          "data": {
            "image/png": "[encoded data removed]",
            "text/plain": [
              "<Figure size 432x288 with 1 Axes>"
            ]
          },
          "metadata": {},
          "output_type": "display_data"
        }
      ],
      "source": [
        "import matplotlib.pyplot as plt\n",
        "plt.plot(number_list, score_list)\n",
        "plt.xlabel(\"Number of training samples\")\n",
        "plt.ylabel(\"Accuracy\")\n",
        "plt.title(\"Mean accuracy of rank svm for four emotions\")\n",
        "plt.show()"
      ]
    },
    {
      "cell_type": "code",
      "execution_count": null,
      "metadata": {
        "colab": {
          "base_uri": "https://localhost:8080/"
        },
        "id": "Ak2R1f6A9fxG",
        "outputId": "e1ff4773-c9ab-48d0-dd04-05e257311670"
      },
      "outputs": [
        {
          "output_type": "stream",
          "name": "stdout",
          "text": [
            "[0.806580147541246, 0.4531052471555904, 0.5535557120225313, 0.8405690419420396, 0.7696828343281432, 0.5471947960506313, 0.6271263061880911, 0.8222584052103503, 0.7142828567313693, 0.591985245875406, 0.6684802611576067, 0.8227144708838072, 0.9036101198572595, 0.9046582707909939, 0.8667648141332351, 0.9475684498567793, 0.9417996191451569, 0.9455001520218912, 0.8210622329615465, 0.983469619625226, 0.9689875342049256, 0.9113792386103599, 0.9035061048791025, 0.988290313805188, 0.967391304347826, 0.9602542766158326, 0.9359867820966219, 0.9893944728040838]\n"
          ]
        }
      ],
      "source": [
        "score_list = []\n",
        "emotion_list = [\"happy\", \"angry\", \"sad\", \"surprised\"]\n",
        "number_list = [10, 50, 100, 500, 1000, 2000, 2500]\n",
        "for number in number_list:\n",
        "  for emotion in emotion_list:\n",
        "    svm = pickle.load(open(f\"/content/drive/MyDrive/SVM Results (trained on one and five)/{emotion}_{number}.sav\", 'rb'))\n",
        "    features = np.load(f'/content/drive/MyDrive/Thesis/four_{emotion}.npy', allow_pickle=True)[:,:384].astype('float64')\n",
        "    labels = np.load(f'/content/drive/MyDrive/Thesis/four_{emotion}.npy', allow_pickle=True)[:, 384].astype('int')\n",
        "    score = svm.score(features, labels)\n",
        "    score_list.append(score)\n",
        "print(score_list)"
      ]
    },
    {
      "cell_type": "code",
      "execution_count": null,
      "metadata": {
        "id": "Eb5v8-E_AYF8"
      },
      "outputs": [],
      "source": [
        "import pickle\n",
        "filename = f'/content/drive/MyDrive/SVM Results (trained on one and five)/score list happy angry sad surprised.sav'\n",
        "pickle.dump(score_list, open(filename, 'wb'))"
      ]
    },
    {
      "cell_type": "code",
      "execution_count": null,
      "metadata": {
        "id": "txdHJxus_XBX"
      },
      "outputs": [],
      "source": [
        "happy_list = score_list[:7]\n",
        "angry_list = score_list[7:14]\n",
        "sad_list = score_list[14:21]\n",
        "surprised_list = score_list[21:]"
      ]
    },
    {
      "cell_type": "code",
      "execution_count": null,
      "metadata": {
        "colab": {
          "base_uri": "https://localhost:8080/"
        },
        "id": "g-YkamdKRm4R",
        "outputId": "bc447a66-1db4-44a1-ac68-d84433e46d29"
      },
      "outputs": [
        {
          "name": "stdout",
          "output_type": "stream",
          "text": [
            "[0.7036743291033909, 0.6816261541661999, 0.6332211838504744, 0.788942607735514, 0.8386627674385111, 0.8587066537581413, 0.8658436814901346]\n"
          ]
        }
      ],
      "source": [
        "score_list = []\n",
        "sample_number_list = [40, 80, 200, 1000, 2000, 4000]\n",
        "number_list = [10, 50, 100, 500, 1000, 2000]\n",
        "for number in number_list:\n",
        "  for emotion in emotion_list:\n",
        "  w_happy = pickle.load(open(f\"/content/drive/MyDrive/SVM Results (trained on one and five)/happy_{number}.sav\", 'rb'))\n",
        "  w_angry = pickle.load(open(f\"/content/drive/MyDrive/SVM Results (trained on one and five)/angry_{number}.sav\", 'rb'))\n",
        "  w_sad = pickle.load(open(f\"/content/drive/MyDrive/SVM Results (trained on one and five)/sad_{number}.sav\", 'rb'))\n",
        "  w_surprised = pickle.load(open(f\"/content/drive/MyDrive/SVM Results (trained on one and five)/surprised_{number}.sav\", 'rb'))\n",
        "  score_happy = w_happy.score(happy_test_features, happy_test_labels)\n",
        "  score_angry = w_happy.score(angry_test_features, angry_test_labels)\n",
        "  score_sad = w_happy.score(sad_test_features, sad_test_labels)\n",
        "  score_surprised = w_happy.score(surprised_test_features, surprised_test_labels)\n",
        "  result = score_happy + score_angry + score_sad + score_surprised\n",
        "  score = result/4\n",
        "  score_list.append(score)\n",
        "print(score_list)"
      ]
    },
    {
      "cell_type": "code",
      "execution_count": null,
      "metadata": {
        "colab": {
          "base_uri": "https://localhost:8080/",
          "height": 592
        },
        "id": "9tGE_2_H_wIu",
        "outputId": "3bd456b9-c94d-4172-e591-69fbefe897c3"
      },
      "outputs": [
        {
          "name": "stderr",
          "output_type": "stream",
          "text": [
            "/usr/local/lib/python3.7/dist-packages/ipykernel_launcher.py:29: UserWarning: Tight layout not applied. The left and right margins cannot be made large enough to accommodate all axes decorations. \n"
          ]
        },
        {
          "data": {
            "image/png": "[encoded data removed]",
            "text/plain": [
              "<Figure size 576x576 with 4 Axes>"
            ]
          },
          "metadata": {},
          "output_type": "display_data"
        }
      ],
      "source": [
        "import matplotlib.pyplot as plt\n",
        "fig, ax = plt.subplots(2,2, figsize = (8,8), sharey=True, sharex=True)\n",
        "ax[0,0].plot(number_list, happy_list)\n",
        "\n",
        "#ax[0,0].set_xlabel(\"Number of training samples\")\n",
        "ax[0,0].set_ylabel(\"Accuracy\")\n",
        "ax[0,0].set_xticks([100, 500, 1000, 2000, 2500])\n",
        "ax[0,0].title.set_text(\"Rank SVM accuracy for Happy category\")\n",
        "\n",
        "ax[0,1].plot(number_list, angry_list)\n",
        "#ax[0,1].set_xlabel(\"Number of training samples\")\n",
        "#ax[0,1].set_ylabel(\"Accuracy\")\n",
        "ax[0,1].title.set_text(\"Rank SVM accuracy for Angry category\")\n",
        "\n",
        "ax[1,0].plot(number_list, sad_list)\n",
        "ax[1,0].set_xlabel(\"Number of training samples\")\n",
        "ax[1,0].set_ylabel(\"Accuracy\")\n",
        "ax[0,0].set_xticks([100, 500, 1000, 2000, 2500])\n",
        "\n",
        "ax[1,0].title.set_text(\"Rank SVM accuracy for Sad category\")\n",
        "\n",
        "ax[1,1].plot(number_list, surprised_list)\n",
        "ax[1,1].set_xlabel(\"Number of training samples\")\n",
        "#ax[1,1].set_ylabel(\"Accuracy\")\n",
        "ax[1,1].title.set_text(\"Rank SVM accuracy for Surprised category\")\n",
        "\n",
        "fig.suptitle('Accuracy per training set volume for Rank SVM', fontsize=16)\n",
        "\n",
        "fig.tight_layout(rect=[1, 0.03, 1, 0.95])\n",
        "\n",
        "plt.show()"
      ]
    },
    {
      "cell_type": "markdown",
      "metadata": {
        "id": "mfdrNf8Ute0D"
      },
      "source": [
        "Happy 2000: 96%\n",
        "Angry 2000: 91%\n"
      ]
    },
    {
      "cell_type": "markdown",
      "metadata": {
        "id": "U7tM2E9IT5Tk"
      },
      "source": [
        "##Lexical Diversity Evaluation"
      ]
    },
    {
      "cell_type": "code",
      "execution_count": null,
      "metadata": {
        "id": "rhF7LrD47EYu"
      },
      "outputs": [],
      "source": [
        "score_list = []\n",
        "target_folder= '/content/drive/MyDrive/Thesis/Confusion Matrices/LexDiv'\n",
        "\n",
        "emotion_list = [\"happy\", \"angry\", \"sad\", \"surprised\"]\n",
        "model_list = ['15634bad', '24992bad', '58773good', '33608good']\n",
        "for model in model_list:\n",
        "  for emotion in emotion_list:\n",
        "    file_name = emotion + model + \".pdf\"\n",
        "    svm = pickle.load(open(f\"/content/drive/MyDrive/Thesis/LexDiv/15634bad/{emotion}.sav\", 'rb'))\n",
        "    data = np.load(f'/content/drive/MyDrive/Thesis/LexDiv/9671test/{emotion}_Neutral.npy')\n",
        "    feats = data[:800, :384].astype(\"float32\")\n",
        "    labels = data[:800, 384].astype(\"float64\")\n",
        "    cf_matrix, accuracy  = svm.conf_matrix(feats, labels)\n",
        "    out_path = os.path.join(target_folder, file_name)\n",
        "    score_list.append(accuracy)\n",
        "    make_conf_matrix(emotion, model, out_path)\n"
      ]
    },
    {
      "cell_type": "code",
      "execution_count": null,
      "metadata": {
        "id": "ZFlOIQQR72RV"
      },
      "outputs": [],
      "source": [
        "bad_scores = score_list[:8]\n",
        "good_scores = score_list[8:]"
      ]
    },
    {
      "cell_type": "code",
      "execution_count": null,
      "metadata": {
        "colab": {
          "base_uri": "https://localhost:8080/",
          "height": 313
        },
        "id": "rXxeQbMf8CLR",
        "outputId": "4c3e0727-646a-4fbf-cb83-7b482eccbe4c"
      },
      "outputs": [
        {
          "output_type": "stream",
          "name": "stdout",
          "text": [
            "0.9270579131930317\n"
          ]
        },
        {
          "output_type": "display_data",
          "data": {
            "text/plain": [
              "<Figure size 432x288 with 1 Axes>"
            ],
            "image/png": "[encoded data removed]"
          },
          "metadata": {
            "needs_background": "light"
          }
        }
      ],
      "source": [
        "import matplotlib.pyplot as plt\n",
        "result_list = []\n",
        "emotion_list = [\"happy\", \"angry\", \"sad\", \"surprised\"]\n",
        "for i in range(4):\n",
        "  result =  (bad_scores[i] + bad_scores[i+4])/2\n",
        "  result_list.append(result)\n",
        "print(np.mean(np.array(bad_scores)))\n",
        "plt.plot(emotion_list, result_list)\n",
        "plt.xlabel(\"Emotion Category\")\n",
        "plt.ylabel(\"Accuracy\")\n",
        "plt.title(\"Mean Accuracy for low diversity models\")\n",
        "plt.show()"
      ]
    },
    {
      "cell_type": "code",
      "execution_count": null,
      "metadata": {
        "colab": {
          "base_uri": "https://localhost:8080/",
          "height": 313
        },
        "id": "lvy1_sAP8Jka",
        "outputId": "513e5ea9-f892-4b8f-9522-773a753cf630"
      },
      "outputs": [
        {
          "output_type": "stream",
          "name": "stdout",
          "text": [
            "0.9270579131930317\n"
          ]
        },
        {
          "output_type": "display_data",
          "data": {
            "text/plain": [
              "<Figure size 432x288 with 1 Axes>"
            ],
            "image/png": "[encoded data removed]"
          },
          "metadata": {
            "needs_background": "light"
          }
        }
      ],
      "source": [
        "import matplotlib.pyplot as plt\n",
        "result_list = []\n",
        "emotion_list = [\"happy\", \"angry\", \"sad\", \"surprised\"]\n",
        "for i in range(4):\n",
        "  result =  (good_scores[i] + good_scores[i+4])/2\n",
        "  result_list.append(result)\n",
        "print(np.mean(np.array(good_scores)))\n",
        "plt.plot(emotion_list, result_list)\n",
        "plt.xlabel(\"Emotion Category\")\n",
        "plt.ylabel(\"Accuracy\")\n",
        "plt.title(\"Mean Accuracy for high diversity models\")\n",
        "plt.show()"
      ]
    },
    {
      "cell_type": "code",
      "source": [
        "score_list = []\n",
        "target_folder= '/content/drive/MyDrive/Thesis/Confusion Matrices/LexDiv'\n",
        "\n",
        "emotion_list = [\"happy\", \"angry\", \"sad\", \"surprised\"]\n",
        "\n",
        "from sklearn.metrics import confusion_matrix\n",
        "#For every file in test set, get all the scores\n",
        "def NormalizeData(data):\n",
        "    return (data - np.min(data)) / (np.max(data) - np.min(data))\n",
        "\n",
        "\n",
        "import seaborn as sns\n",
        "\n",
        "acc_list = []\n",
        "\n",
        "for number in ['15634bad', '24992bad', '58773good', '33608good']:\n",
        "#Emotion list is always in the same order, so the index is the true label\n",
        "  happy = pickle.load(open(f\"/content/drive/MyDrive/Thesis/LexDiv/{number}/happy.sav\", 'rb'))\n",
        "  angry = pickle.load(open(f\"/content/drive/MyDrive/Thesis/LexDiv/{number}/angry.sav\", 'rb'))\n",
        "  sad = pickle.load(open(f\"/content/drive/MyDrive/Thesis/LexDiv/{number}/sad.sav\", 'rb'))\n",
        "  surprised = pickle.load(open(f\"/content/drive/MyDrive/Thesis/LexDiv/{number}/surprised.sav\", 'rb'))\n",
        "  for index, emotion in enumerate(emotion_list):\n",
        "    happy_list= []\n",
        "    angry_list = []\n",
        "    sad_list = []\n",
        "    surprised_list = []\n",
        "    emo_lowercase = emotion.lower()\n",
        "    feats = np.load(f'/content/drive/MyDrive/Thesis/four_{emo_lowercase}.npy', allow_pickle=True)[:,:384].astype('float64')\n",
        "    for feat in feats:\n",
        "      feat = feat.reshape(1, -1)\n",
        "      happy_list.append(happy.decision_function(feat))\n",
        "      angry_list.append(angry.decision_function(feat))\n",
        "      sad_list.append(sad.decision_function(feat))\n",
        "      surprised_list.append(surprised.decision_function(feat))\n",
        "\n",
        "    happy_norm = NormalizeData(happy_list)\n",
        "    angry_norm = NormalizeData(angry_list)\n",
        "    sad_norm = NormalizeData(sad_list)\n",
        "    surprised_norm = NormalizeData(surprised_list)\n",
        "\n",
        "    result_array = np.hstack((happy_norm, angry_norm, sad_norm, surprised_norm))\n",
        "    true_labels = result_array.shape[0] * [index]\n",
        "    correct = 0\n",
        "    predictions = []\n",
        "    for row in result_array:\n",
        "      if np.argmax(row) == index:\n",
        "        correct+=1\n",
        "        predictions.append(np.argmax(row))\n",
        "    \n",
        "    \n",
        "    \n",
        "    \n",
        "\n",
        "    accuracy = correct/result_array.shape[0]\n",
        "    print(accuracy)\n",
        "    acc_list.append(accuracy)\n",
        "print(acc_list)\n"
      ],
      "metadata": {
        "colab": {
          "base_uri": "https://localhost:8080/"
        },
        "id": "vmEevoYUeqqG",
        "outputId": "37be75ea-0805-46bd-947e-166f27ae31b1"
      },
      "execution_count": null,
      "outputs": [
        {
          "output_type": "stream",
          "name": "stdout",
          "text": [
            "0.284\n",
            "0.129\n",
            "0.351\n",
            "0.103\n",
            "0.067\n",
            "0.454\n",
            "0.242\n",
            "0.217\n",
            "0.378\n",
            "0.353\n",
            "0.25\n",
            "0.077\n",
            "0.135\n",
            "0.274\n",
            "0.238\n",
            "0.17\n",
            "[0.284, 0.129, 0.351, 0.103, 0.067, 0.454, 0.242, 0.217, 0.378, 0.353, 0.25, 0.077, 0.135, 0.274, 0.238, 0.17]\n"
          ]
        }
      ]
    },
    {
      "cell_type": "code",
      "source": [
        "import numpy as np\n",
        "acc_one = np.mean(np.array(acc_list[:4]))\n",
        "acc_two = np.mean(np.array(acc_list[4:8]))\n",
        "acc_three = np.mean(np.array(acc_list[8:12]))\n",
        "acc_four = np.mean(np.array(acc_list[12:16]))\n"
      ],
      "metadata": {
        "id": "Ty1cUy-VfVMI"
      },
      "execution_count": null,
      "outputs": []
    },
    {
      "cell_type": "code",
      "source": [
        "print(acc_one, acc_two, acc_three, acc_four)"
      ],
      "metadata": {
        "colab": {
          "base_uri": "https://localhost:8080/"
        },
        "id": "YuGROdHDfXI8",
        "outputId": "729482bd-98b3-403b-b6bc-dca38d2648fa"
      },
      "execution_count": null,
      "outputs": [
        {
          "output_type": "stream",
          "name": "stdout",
          "text": [
            "0.21675 0.245 0.2645 0.20425000000000001\n"
          ]
        }
      ]
    },
    {
      "cell_type": "code",
      "source": [
        "y = [acc_one, acc_two, acc_three, acc_four, acc_five, acc_six]\n",
        "x = sample_number_list\n",
        "plt.scatter(x,y)\n",
        "plt.axhline(y=0.25, color='r', linestyle='--')\n",
        "plt.title(\"Mean Accuracy in emotion classification Zhu\")\n",
        "plt.xlabel(\"Number of Training Samples\")\n",
        "plt.ylabel(\"Accuracy\")\n",
        "plt.show()"
      ],
      "metadata": {
        "id": "ZGFdM2xxfaYT"
      },
      "execution_count": null,
      "outputs": []
    },
    {
      "cell_type": "code",
      "source": [
        "happy_list = [0, 4, 8, 12, 16, 21]\n",
        "angry_list = [1, 5, 9, 13, 17, 21]\n",
        "sad_list = [2, 6, 10, 14, 18, 22]\n",
        "surprised_list = [3, 7, 11, 15, 19, 23]\n",
        "values_happy = []\n",
        "values_sad = []\n",
        "values_angry = []\n",
        "values_surprised = []\n",
        "for i in happy_list:\n",
        "  values_happy.append(acc_list[i])\n",
        "for i in angry_list:\n",
        "  values_angry.append(acc_list[i])\n",
        "for i in sad_list:\n",
        "  values_sad.append(acc_list[i])\n",
        "for i in surprised_list:\n",
        "  values_surprised.append(acc_list[i])\n",
        "\n",
        "fig = plt.figure()\n",
        "st = fig.suptitle(\"Mean Accuracy per emotion Zhu\", fontsize=\"x-large\")\n",
        "\n",
        "ax1 = fig.add_subplot(221)\n",
        "ax1.scatter(x,values_happy)\n",
        "plt.axhline(y=0.25, color='r', linestyle='--')\n",
        "ax1.set_title(\"Happy\")\n",
        "ax1.set_ylabel(\"Accuracy\")\n",
        "\n",
        "ax2 = fig.add_subplot(222, sharey = ax1)\n",
        "ax2.scatter(x,values_angry)\n",
        "plt.axhline(y=0.25, color='r', linestyle='--')\n",
        "ax2.set_title(\"Angry\")\n",
        "\n",
        "ax3 = fig.add_subplot(223, sharey = ax1)\n",
        "ax3.scatter(x,values_sad)\n",
        "plt.axhline(y=0.25, color='r', linestyle='--')\n",
        "ax3.set_title(\"Sad\")\n",
        "ax3.set_ylabel(\"Accuracy\")\n",
        "ax3.set_xlabel(\"Number of training samples\")\n",
        "ax3 = fig.add_subplot(224, sharey = ax1)\n",
        "ax3.scatter(x,values_surprised)\n",
        "plt.axhline(y=0.25, color='r', linestyle='--')\n",
        "ax3.set_title(\"Surprised\")\n",
        "ax3.set_xlabel(\"Number of training samples\")\n",
        "fig.tight_layout()\n",
        "\n",
        "# shift subplots down:\n",
        "st.set_y(0.95)\n",
        "fig.subplots_adjust(top=0.85)"
      ],
      "metadata": {
        "id": "rzZm0GHUfc7x"
      },
      "execution_count": null,
      "outputs": []
    },
    {
      "cell_type": "markdown",
      "metadata": {
        "id": "GeCo4xeTT-qw"
      },
      "source": [
        "##Zhu Emotion-Neutral Task"
      ]
    },
    {
      "cell_type": "code",
      "execution_count": null,
      "metadata": {
        "id": "5qb2duuKTa8a"
      },
      "outputs": [],
      "source": [
        "#All Zhu confusion matrices\n",
        "import pickle\n",
        "import matplotlib.pyplot as plt\n",
        "import os\n",
        "target_folder= '/content/drive/MyDrive/Thesis/Confusion Matrices/Zhu'\n",
        "emotion_list = [\"Happy\", \"Angry\", \"Sad\", \"Surprised\"]\n",
        "sample_number_list = [40, 80, 200, 1000, 2000, 4000]\n",
        "model_name_list = [10, 50, 100, 500, 1000, 2000]\n",
        "acc_list = []\n",
        "\n",
        "for index, sample_number in enumerate(sample_number_list):\n",
        "  for emotion in emotion_list:\n",
        "\n",
        "    file_name = emotion + str(sample_number) + \".pdf\"\n",
        "    emo_lowercase = emotion.lower()\n",
        "    svm = pickle.load(open(f\"/content/drive/MyDrive/SVM Results (trained on one and five)/{emo_lowercase}_{model_name_list[index]}.sav\", 'rb'))\n",
        "    \n",
        "    feats = np.load(f'/content/drive/MyDrive/Thesis/four_{emo_lowercase}.npy', allow_pickle=True)[:,:384].astype('float64')\n",
        "    labels = np.load(f'/content/drive/MyDrive/Thesis/four_{emo_lowercase}.npy', allow_pickle=True)[:, 384].astype('int')\n",
        "    \n",
        "    cf_matrix, accuracy  = svm.conf_matrix(feats, labels)\n",
        "    out_path = os.path.join(target_folder, file_name)\n",
        "    acc_list.append(accuracy)\n",
        "    make_conf_matrix(emotion, sample_number, out_path)\n",
        "\n",
        "    del feats\n",
        "    del labels\n",
        "np.save(target_folder + \"acclist.npy\" , np.array(acc_list))"
      ]
    },
    {
      "cell_type": "code",
      "source": [
        "import numpy as np\n",
        "\n",
        "acc_one = np.mean(np.array(acc_list[:4]))\n",
        "acc_two = np.mean(np.array(acc_list[4:8]))\n",
        "acc_three = np.mean(np.array(acc_list[8:12]))\n",
        "acc_four = np.mean(np.array(acc_list[12:16]))\n",
        "acc_five = np.mean(np.array(acc_list[16:20]))\n",
        "acc_six = np.mean(np.array(acc_list[20:]))"
      ],
      "metadata": {
        "id": "iOxSKSfrj_0Q"
      },
      "execution_count": null,
      "outputs": []
    },
    {
      "cell_type": "code",
      "source": [
        "print(acc_list)"
      ],
      "metadata": {
        "colab": {
          "base_uri": "https://localhost:8080/"
        },
        "id": "Kv6llTAe_9rG",
        "outputId": "cfa47f38-d477-4b47-8683-db91aa7e0ced"
      },
      "execution_count": null,
      "outputs": [
        {
          "output_type": "stream",
          "name": "stdout",
          "text": [
            "[0.806580147541246, 0.4531052471555904, 0.5535557120225313, 0.8405690419420396, 0.7696828343281432, 0.5471947960506313, 0.6271263061880911, 0.8222584052103503, 0.7142828567313693, 0.591985245875406, 0.6684802611576067, 0.8227144708838072, 0.9036101198572595, 0.9046582707909939, 0.8667648141332351, 0.9475684498567793, 0.9417996191451569, 0.9455001520218912, 0.8210622329615465, 0.983469619625226, 0.9689875342049256, 0.9113792386103599, 0.9035061048791025, 0.988290313805188]\n"
          ]
        }
      ]
    },
    {
      "cell_type": "code",
      "source": [
        ""
      ],
      "metadata": {
        "id": "kylX7ouAA0Rn"
      },
      "execution_count": null,
      "outputs": []
    },
    {
      "cell_type": "code",
      "source": [
        "len(acc_list)"
      ],
      "metadata": {
        "colab": {
          "base_uri": "https://localhost:8080/"
        },
        "id": "RLannYgoAr6H",
        "outputId": "0da5158e-aa27-4974-b8bc-34a2aaeae128"
      },
      "execution_count": null,
      "outputs": [
        {
          "output_type": "execute_result",
          "data": {
            "text/plain": [
              "24"
            ]
          },
          "metadata": {},
          "execution_count": 96
        }
      ]
    },
    {
      "cell_type": "code",
      "source": [
        "print(acc_one, acc_two, acc_three, acc_four, acc_five, acc_six)"
      ],
      "metadata": {
        "colab": {
          "base_uri": "https://localhost:8080/"
        },
        "id": "7P8Z5k-w__af",
        "outputId": "1b572e4e-cafc-4113-f945-221dc488df60"
      },
      "execution_count": null,
      "outputs": [
        {
          "output_type": "stream",
          "name": "stdout",
          "text": [
            "0.6634525371653518 0.6915655854443039 0.6993657086620473 0.905650413659567 0.9229579059384552 0.943040797874894\n"
          ]
        }
      ]
    },
    {
      "cell_type": "code",
      "source": [
        "y = [acc_one, acc_two, acc_three, acc_four, acc_five, acc_six]\n",
        "x = sample_number_list\n",
        "plt.scatter(x,y)\n",
        "plt.title(\"Mean Accuracy across all categories Zhu\")\n",
        "plt.xlabel(\"Number of Training Samples\")\n",
        "plt.ylabel(\"Accuracy\")\n",
        "plt.show()"
      ],
      "metadata": {
        "colab": {
          "base_uri": "https://localhost:8080/",
          "height": 295
        },
        "id": "SWxU6vQxlaLv",
        "outputId": "180975e3-9bff-4181-d854-009a2c0f258d"
      },
      "execution_count": null,
      "outputs": [
        {
          "output_type": "display_data",
          "data": {
            "text/plain": [
              "<Figure size 432x288 with 1 Axes>"
            ],
            "image/png": "[encoded data removed]"
          },
          "metadata": {
            "needs_background": "light"
          }
        }
      ]
    },
    {
      "cell_type": "code",
      "source": [
        "happy_list = [0, 4, 8, 12, 16, 21]\n",
        "angry_list = [1, 5, 9, 13, 17, 21]\n",
        "sad_list = [2, 6, 10, 14, 18, 22]\n",
        "surprised_list = [3, 7, 11, 15, 19, 23]\n",
        "values_happy = []\n",
        "values_sad = []\n",
        "values_angry = []\n",
        "values_surprised = []\n",
        "for i in happy_list:\n",
        "  values_happy.append(acc_list[i])\n",
        "for i in angry_list:\n",
        "  values_angry.append(acc_list[i])\n",
        "for i in sad_list:\n",
        "  values_sad.append(acc_list[i])\n",
        "for i in surprised_list:\n",
        "  values_surprised.append(acc_list[i])\n",
        "\n",
        "fig = plt.figure()\n",
        "st = fig.suptitle(\"Mean Accuracy Emotional-Neutral task Zhu\", fontsize=\"x-large\")\n",
        "\n",
        "ax1 = fig.add_subplot(221)\n",
        "ax1.scatter(x,values_happy)\n",
        "plt.axhline(y=0.25, color='r', linestyle='--')\n",
        "ax1.set_title(\"Happy\")\n",
        "ax1.set_ylabel(\"Accuracy\")\n",
        "\n",
        "ax2 = fig.add_subplot(222, sharey = ax1)\n",
        "ax2.scatter(x,values_angry)\n",
        "plt.axhline(y=0.25, color='r', linestyle='--')\n",
        "ax2.set_title(\"Angry\")\n",
        "\n",
        "ax3 = fig.add_subplot(223, sharey = ax1)\n",
        "ax3.scatter(x,values_sad)\n",
        "plt.axhline(y=0.25, color='r', linestyle='--')\n",
        "ax3.set_title(\"Sad\")\n",
        "ax3.set_ylabel(\"Accuracy\")\n",
        "ax3.set_xlabel(\"Number of training samples\")\n",
        "ax3 = fig.add_subplot(224, sharey = ax1)\n",
        "ax3.scatter(x,values_surprised)\n",
        "plt.axhline(y=0.25, color='r', linestyle='--')\n",
        "ax3.set_title(\"Surprised\")\n",
        "ax3.set_xlabel(\"Number of training samples\")\n",
        "fig.tight_layout()\n",
        "\n",
        "# shift subplots down:\n",
        "st.set_y(0.95)\n",
        "fig.subplots_adjust(top=0.85)\n",
        "\n"
      ],
      "metadata": {
        "colab": {
          "base_uri": "https://localhost:8080/",
          "height": 294
        },
        "id": "PE-XRlX9rv6S",
        "outputId": "a717d9cb-9dd5-47e4-da79-7e8e5461f475"
      },
      "execution_count": null,
      "outputs": [
        {
          "output_type": "display_data",
          "data": {
            "text/plain": [
              "<Figure size 432x288 with 4 Axes>"
            ],
            "image/png": "[encoded data removed]"
          },
          "metadata": {
            "needs_background": "light"
          }
        }
      ]
    },
    {
      "cell_type": "markdown",
      "source": [
        "##Zhu Emotion Task"
      ],
      "metadata": {
        "id": "5ccXgqbArezG"
      }
    },
    {
      "cell_type": "code",
      "source": [
        "\n",
        "from sklearn.metrics import confusion_matrix,\n",
        "#For every file in test set, get all the scores\n",
        "def NormalizeData(data):\n",
        "    return (data - np.min(data)) / (np.max(data) - np.min(data))\n",
        "target_folder= '/content/drive/MyDrive/Thesis/Confusion Matrices/Zhu/emo'\n",
        "\n",
        "import seaborn as sns\n",
        "\n",
        "acc_list = []\n",
        "\n",
        "for number in [10, 50, 100, 500, 1000, 2000]:\n",
        "#Emotion list is always in the same order, so the index is the true label\n",
        "  happy = pickle.load(open(f\"/content/drive/MyDrive/SVM Results (trained on one and five)/happy_{number}.sav\", 'rb'))\n",
        "  angry = pickle.load(open(f\"/content/drive/MyDrive/SVM Results (trained on one and five)/angry_{number}.sav\", 'rb'))\n",
        "  sad = pickle.load(open(f\"/content/drive/MyDrive/SVM Results (trained on one and five)/sad_{number}.sav\", 'rb'))\n",
        "  surprised = pickle.load(open(f\"/content/drive/MyDrive/SVM Results (trained on one and five)/surprised_{number}.sav\", 'rb'))\n",
        "  \n",
        "  for index, emotion in enumerate(emotion_list):\n",
        "    happy_list= []\n",
        "    angry_list = []\n",
        "    sad_list = []\n",
        "    surprised_list = []\n",
        "    emo_lowercase = emotion.lower()\n",
        "    feats = np.load(f'/content/drive/MyDrive/Thesis/four_{emo_lowercase}.npy', allow_pickle=True)[:,:384].astype('float64')\n",
        "    for feat in feats:\n",
        "      feat = feat.reshape(1, -1)\n",
        "      happy_list.append(happy.decision_function(feat))\n",
        "      angry_list.append(angry.decision_function(feat))\n",
        "      sad_list.append(sad.decision_function(feat))\n",
        "      surprised_list.append(surprised.decision_function(feat))\n",
        "\n",
        "    happy_norm = NormalizeData(happy_list)\n",
        "    angry_norm = NormalizeData(angry_list)\n",
        "    sad_norm = NormalizeData(sad_list)\n",
        "    surprised_norm = NormalizeData(surprised_list)\n",
        "\n",
        "    result_array = np.hstack((happy_norm, angry_norm, sad_norm, surprised_norm))\n",
        "    true_labels = result_array.shape[0] * [index]\n",
        "    correct = 0\n",
        "    predictions = []\n",
        "    for row in result_array:\n",
        "      if np.argmax(row) == index:\n",
        "        correct+=1\n",
        "        predictions.append(np.argmax(row))\n",
        "    labels = [index] * result_array.shape[0]\n",
        "    cf_matrix = confusion_matrix(labels, predictions)\n",
        "    \n",
        "    \n",
        "\n",
        "    accuracy = correct/result_array.shape[0]\n",
        "    print(accuracy)\n",
        "    acc_list.append(accuracy)\n",
        "#print(acc_list)"
      ],
      "metadata": {
        "colab": {
          "base_uri": "https://localhost:8080/"
        },
        "id": "qlQ523twvi__",
        "outputId": "58111f47-37ee-4c81-8003-b887f54dc172"
      },
      "execution_count": null,
      "outputs": [
        {
          "output_type": "stream",
          "name": "stdout",
          "text": [
            "0.426\n",
            "0.045\n",
            "0.218\n",
            "0.2\n",
            "0.226\n",
            "0.304\n",
            "0.22\n",
            "0.11\n",
            "0.065\n",
            "0.136\n",
            "0.425\n",
            "0.307\n",
            "0.211\n",
            "0.213\n",
            "0.309\n",
            "0.212\n",
            "0.119\n",
            "0.042\n",
            "0.447\n",
            "0.216\n",
            "0.305\n",
            "0.197\n",
            "0.382\n",
            "0.059\n"
          ]
        }
      ]
    },
    {
      "cell_type": "markdown",
      "source": [
        "Accuracies: 0.426\n",
        "0.045\n",
        "0.218\n",
        "0.2\n",
        "0.226\n",
        "0.304\n",
        "0.22\n",
        "0.11\n",
        "0.065\n",
        "0.136\n",
        "0.425\n",
        "0.307\n",
        "0.211\n",
        "0.213\n",
        "0.309\n",
        "0.212\n",
        "0.119\n",
        "0.042\n",
        "0.447\n",
        "0.216\n",
        "0.305\n",
        "0.197\n",
        "0.382\n",
        "0.059"
      ],
      "metadata": {
        "id": "koU4JjP-3ix0"
      }
    },
    {
      "cell_type": "code",
      "source": [
        "import numpy as np\n",
        "acc_one = np.mean(np.array(acc_list[:4]))\n",
        "acc_two = np.mean(np.array(acc_list[4:8]))\n",
        "acc_three = np.mean(np.array(acc_list[8:12]))\n",
        "acc_four = np.mean(np.array(acc_list[12:16]))\n",
        "acc_five = np.mean(np.array(acc_list[16:20]))\n",
        "acc_six = np.mean(np.array(acc_list[20:]))"
      ],
      "metadata": {
        "id": "4xQHcyb11zH2"
      },
      "execution_count": null,
      "outputs": []
    },
    {
      "cell_type": "code",
      "source": [
        "print(acc_one, acc_two, acc_three, acc_four, acc_five, acc_six)"
      ],
      "metadata": {
        "colab": {
          "base_uri": "https://localhost:8080/"
        },
        "id": "-MzVLHea5F-6",
        "outputId": "52a291ac-6c62-4926-cd83-cb40c0f68162"
      },
      "execution_count": null,
      "outputs": [
        {
          "output_type": "stream",
          "name": "stdout",
          "text": [
            "0.22225 0.215 0.23325 0.23625 0.206 0.23575000000000002\n"
          ]
        }
      ]
    },
    {
      "cell_type": "code",
      "source": [
        "y = [acc_one, acc_two, acc_three, acc_four, acc_five, acc_six]\n",
        "x = sample_number_list\n",
        "plt.scatter(x,y)\n",
        "plt.axhline(y=0.25, color='r', linestyle='--')\n",
        "plt.title(\"Mean Accuracy in emotion classification Zhu\")\n",
        "plt.xlabel(\"Number of Training Samples\")\n",
        "plt.ylabel(\"Accuracy\")\n",
        "plt.show()"
      ],
      "metadata": {
        "colab": {
          "base_uri": "https://localhost:8080/",
          "height": 295
        },
        "id": "uV9fPx252Dne",
        "outputId": "6df4d6a5-3313-4f56-a5ba-83d4cff0c033"
      },
      "execution_count": null,
      "outputs": [
        {
          "output_type": "display_data",
          "data": {
            "text/plain": [
              "<Figure size 432x288 with 1 Axes>"
            ],
            "image/png": "[encoded data removed]"
          },
          "metadata": {
            "needs_background": "light"
          }
        }
      ]
    },
    {
      "cell_type": "code",
      "source": [
        "happy_list = [0, 4, 8, 12, 16, 21]\n",
        "angry_list = [1, 5, 9, 13, 17, 21]\n",
        "sad_list = [2, 6, 10, 14, 18, 22]\n",
        "surprised_list = [3, 7, 11, 15, 19, 23]\n",
        "values_happy = []\n",
        "values_sad = []\n",
        "values_angry = []\n",
        "values_surprised = []\n",
        "for i in happy_list:\n",
        "  values_happy.append(acc_list[i])\n",
        "for i in angry_list:\n",
        "  values_angry.append(acc_list[i])\n",
        "for i in sad_list:\n",
        "  values_sad.append(acc_list[i])\n",
        "for i in surprised_list:\n",
        "  values_surprised.append(acc_list[i])\n",
        "\n",
        "fig = plt.figure()\n",
        "st = fig.suptitle(\"Mean Accuracy per emotion Zhu\", fontsize=\"x-large\")\n",
        "\n",
        "ax1 = fig.add_subplot(221)\n",
        "ax1.scatter(x,values_happy)\n",
        "plt.axhline(y=0.25, color='r', linestyle='--')\n",
        "ax1.set_title(\"Happy\")\n",
        "ax1.set_ylabel(\"Accuracy\")\n",
        "\n",
        "ax2 = fig.add_subplot(222, sharey = ax1)\n",
        "ax2.scatter(x,values_angry)\n",
        "plt.axhline(y=0.25, color='r', linestyle='--')\n",
        "ax2.set_title(\"Angry\")\n",
        "\n",
        "ax3 = fig.add_subplot(223, sharey = ax1)\n",
        "ax3.scatter(x,values_sad)\n",
        "plt.axhline(y=0.25, color='r', linestyle='--')\n",
        "ax3.set_title(\"Sad\")\n",
        "ax3.set_ylabel(\"Accuracy\")\n",
        "ax3.set_xlabel(\"Number of training samples\")\n",
        "ax3 = fig.add_subplot(224, sharey = ax1)\n",
        "ax3.scatter(x,values_surprised)\n",
        "plt.axhline(y=0.25, color='r', linestyle='--')\n",
        "ax3.set_title(\"Surprised\")\n",
        "ax3.set_xlabel(\"Number of training samples\")\n",
        "fig.tight_layout()\n",
        "\n",
        "# shift subplots down:\n",
        "st.set_y(0.95)\n",
        "fig.subplots_adjust(top=0.85)"
      ],
      "metadata": {
        "colab": {
          "base_uri": "https://localhost:8080/",
          "height": 294
        },
        "id": "i2pGAWth2IyZ",
        "outputId": "6406c6ce-99db-49cf-881c-a0d63e2c702b"
      },
      "execution_count": null,
      "outputs": [
        {
          "output_type": "display_data",
          "data": {
            "text/plain": [
              "<Figure size 432x288 with 4 Axes>"
            ],
            "image/png": "[encoded data removed]"
          },
          "metadata": {
            "needs_background": "light"
          }
        }
      ]
    }
  ],
  "metadata": {
    "colab": {
      "collapsed_sections": [],
      "machine_shape": "hm",
      "name": "Rank SVM.ipynb",
      "provenance": []
    },
    "gpuClass": "standard",
    "kernelspec": {
      "display_name": "Python 3",
      "name": "python3"
    },
    "language_info": {
      "name": "python"
    }
  },
  "nbformat": 4,
  "nbformat_minor": 0
}